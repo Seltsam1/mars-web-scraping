{
 "cells": [
  {
   "cell_type": "markdown",
   "metadata": {},
   "source": [
    "# Scraping Steps for Mars App"
   ]
  },
  {
   "cell_type": "code",
   "execution_count": 1,
   "metadata": {},
   "outputs": [],
   "source": [
    "# Dependencies\n",
    "\n",
    "from bs4 import BeautifulSoup as bs\n",
    "import pandas as pd\n",
    "\n",
    "from splinter import Browser\n",
    "from webdriver_manager.chrome import ChromeDriverManager"
   ]
  },
  {
   "cell_type": "code",
   "execution_count": 2,
   "metadata": {},
   "outputs": [
    {
     "name": "stderr",
     "output_type": "stream",
     "text": [
      "[WDM] - ====== WebDriver manager ======\n",
      "[WDM] - Current google-chrome version is 89.0.4389\n",
      "[WDM] - Get LATEST driver version for 89.0.4389\n"
     ]
    },
    {
     "name": "stdout",
     "output_type": "stream",
     "text": [
      "\n",
      "\n"
     ]
    },
    {
     "name": "stderr",
     "output_type": "stream",
     "text": [
      "[WDM] - Get LATEST driver version for 89.0.4389\n",
      "[WDM] - Trying to download new driver from https://chromedriver.storage.googleapis.com/89.0.4389.23/chromedriver_mac64.zip\n",
      "[WDM] - Driver has been saved in cache [/Users/seltsam/.wdm/drivers/chromedriver/mac64/89.0.4389.23]\n"
     ]
    }
   ],
   "source": [
    "# Executable path\n",
    "\n",
    "executable_path = {\"executable_path\": ChromeDriverManager().install()}\n",
    "\n",
    "browser = Browser('chrome', **executable_path, headless=False)\n"
   ]
  },
  {
   "cell_type": "code",
   "execution_count": 8,
   "metadata": {},
   "outputs": [
    {
     "name": "stdout",
     "output_type": "stream",
     "text": [
      "NASA's Perseverance Mars Rover Mission Honors Navajo Language\n",
      "\n",
      "Working with the Navajo Nation, the rover team has named features on Mars with words from the Navajo language.\n"
     ]
    }
   ],
   "source": [
    "# Url to be scraped (NASA Mars News Site)\n",
    "url = \"https://mars.nasa.gov/news/\"\n",
    "\n",
    "# Direct browser to nasa page\n",
    "browser.visit(url)\n",
    "\n",
    "# Save html from browser to variable\n",
    "html = browser.html\n",
    "\n",
    "# Create Beautiful soup object and parse\n",
    "soup = bs(html, \"html.parser\")\n",
    "\n",
    "# Retrieve results for most recent title (top most article)\n",
    "results = soup.select_one(\"ul.item_list li.slide\")\n",
    "\n",
    "# Save first title as title variable\n",
    "title = results.find(\"div\", class_=\"content_title\").text\n",
    "\n",
    "# Save first paragraph of article as paragraph variable\n",
    "paragraph = results.find(\"div\", class_=\"article_teaser_body\").text\n",
    "\n",
    "# Print results to console for testing\n",
    "print(title)\n",
    "print()\n",
    "print(paragraph)\n"
   ]
  },
  {
   "cell_type": "code",
   "execution_count": 23,
   "metadata": {},
   "outputs": [
    {
     "name": "stdout",
     "output_type": "stream",
     "text": [
      "https://data-class-jpl-space.s3.amazonaws.com/JPL_Space/image/featured/mars1.jpg\n"
     ]
    }
   ],
   "source": [
    "# Url to be scraped for image (Jet Propulsion Laboratory, California Institute of Technology)\n",
    "url = \"https://data-class-jpl-space.s3.amazonaws.com/JPL_Space/index.html\"\n",
    "\n",
    "# Direct browser to JPL page\n",
    "browser.visit(url)\n",
    "\n",
    "# Save html from browser to variable\n",
    "html = browser.html\n",
    "\n",
    "# Create Beautiful soup object and parse\n",
    "soup_image = bs(html, \"html.parser\")\n",
    "\n",
    "# Click on \"full image\" to get larger pic\n",
    "full_image = soup_image.find(\"a\", class_=\"showimg fancybox-thumbs\")\n",
    "\n",
    "# Save relative url of image with rest of url into variable\n",
    "featured = \"https://data-class-jpl-space.s3.amazonaws.com/JPL_Space/\" + full_image[\"href\"]\n",
    "\n",
    "# Print to console for testing\n",
    "print(featured)\n"
   ]
  },
  {
   "cell_type": "code",
   "execution_count": null,
   "metadata": {},
   "outputs": [],
   "source": []
  }
 ],
 "metadata": {
  "kernelspec": {
   "display_name": "Python 3",
   "language": "python",
   "name": "python3"
  },
  "language_info": {
   "codemirror_mode": {
    "name": "ipython",
    "version": 3
   },
   "file_extension": ".py",
   "mimetype": "text/x-python",
   "name": "python",
   "nbconvert_exporter": "python",
   "pygments_lexer": "ipython3",
   "version": "3.8.5"
  }
 },
 "nbformat": 4,
 "nbformat_minor": 4
}
